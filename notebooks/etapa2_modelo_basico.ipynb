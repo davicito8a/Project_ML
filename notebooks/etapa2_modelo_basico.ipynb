{
 "cells": [
  {
   "cell_type": "markdown",
   "id": "514c3b87",
   "metadata": {},
   "source": [
    "contexto: el dataset utilizado contiene 30 muestras y 5 columnas: cuatro variables numéricas extraídas de señales ECG (`mean_rr`, `std_rr`, `skew_rr`, `kurt_rr`) y una columna de etiqueta (`label`) con dos clases: \"Normal\" y \"AFib\". El conjunto está ligeramente desbalanceado (18 Normal, 12 AFib). Según el análisis exploratorio, `std_rr` y `kurt_rr` parecen ser las variables más discriminantes entre clases"
   ]
  },
  {
   "cell_type": "markdown",
   "id": "e847fae0",
   "metadata": {},
   "source": [
    "**Entrenar un modelo base**"
   ]
  },
  {
   "cell_type": "code",
   "execution_count": 1,
   "id": "d13bf99a",
   "metadata": {},
   "outputs": [
    {
     "data": {
      "text/html": [
       "<div>\n",
       "<style scoped>\n",
       "    .dataframe tbody tr th:only-of-type {\n",
       "        vertical-align: middle;\n",
       "    }\n",
       "\n",
       "    .dataframe tbody tr th {\n",
       "        vertical-align: top;\n",
       "    }\n",
       "\n",
       "    .dataframe thead th {\n",
       "        text-align: right;\n",
       "    }\n",
       "</style>\n",
       "<table border=\"1\" class=\"dataframe\">\n",
       "  <thead>\n",
       "    <tr style=\"text-align: right;\">\n",
       "      <th></th>\n",
       "      <th>mean_rr</th>\n",
       "      <th>std_rr</th>\n",
       "      <th>skew_rr</th>\n",
       "      <th>kurt_rr</th>\n",
       "      <th>label</th>\n",
       "    </tr>\n",
       "  </thead>\n",
       "  <tbody>\n",
       "    <tr>\n",
       "      <th>0</th>\n",
       "      <td>757.179487</td>\n",
       "      <td>42.811044</td>\n",
       "      <td>-1.379042</td>\n",
       "      <td>4.158868</td>\n",
       "      <td>Normal</td>\n",
       "    </tr>\n",
       "    <tr>\n",
       "      <th>1</th>\n",
       "      <td>878.383838</td>\n",
       "      <td>235.920892</td>\n",
       "      <td>-1.333445</td>\n",
       "      <td>0.192543</td>\n",
       "      <td>Normal</td>\n",
       "    </tr>\n",
       "    <tr>\n",
       "      <th>2</th>\n",
       "      <td>763.593074</td>\n",
       "      <td>140.044073</td>\n",
       "      <td>3.663957</td>\n",
       "      <td>17.542458</td>\n",
       "      <td>Normal</td>\n",
       "    </tr>\n",
       "    <tr>\n",
       "      <th>3</th>\n",
       "      <td>947.111111</td>\n",
       "      <td>178.855898</td>\n",
       "      <td>0.469651</td>\n",
       "      <td>-0.960385</td>\n",
       "      <td>AFib</td>\n",
       "    </tr>\n",
       "    <tr>\n",
       "      <th>4</th>\n",
       "      <td>538.287462</td>\n",
       "      <td>219.984067</td>\n",
       "      <td>1.221347</td>\n",
       "      <td>0.156044</td>\n",
       "      <td>AFib</td>\n",
       "    </tr>\n",
       "  </tbody>\n",
       "</table>\n",
       "</div>"
      ],
      "text/plain": [
       "      mean_rr      std_rr   skew_rr    kurt_rr   label\n",
       "0  757.179487   42.811044 -1.379042   4.158868  Normal\n",
       "1  878.383838  235.920892 -1.333445   0.192543  Normal\n",
       "2  763.593074  140.044073  3.663957  17.542458  Normal\n",
       "3  947.111111  178.855898  0.469651  -0.960385    AFib\n",
       "4  538.287462  219.984067  1.221347   0.156044    AFib"
      ]
     },
     "execution_count": 1,
     "metadata": {},
     "output_type": "execute_result"
    }
   ],
   "source": [
    "from pathlib import Path\n",
    "import pandas as pd\n",
    "import numpy as np\n",
    "import wfdb\n",
    "import neurokit2 as nk\n",
    "from scipy.stats import skew, kurtosis\n",
    "\n",
    "# --- cargar señales WFDB y calcular RR-features ---\n",
    "repo_root = Path.cwd().parent\n",
    "raw_dir   = repo_root / \"data\" / \"Datos_Proyecto\"\n",
    "ref_df    = pd.read_csv(raw_dir / \"REFERENCE.csv\", index_col=\"record\")\n",
    "\n",
    "features = []\n",
    "for hea in sorted(raw_dir.glob(\"*.hea\")):\n",
    "    name = hea.stem\n",
    "    rec  = wfdb.rdrecord(str(raw_dir / name))\n",
    "    sig  = rec.p_signal[:,0]\n",
    "    fs   = rec.fs\n",
    "\n",
    "    ecg_clean = nk.ecg_clean(sig, sampling_rate=fs)\n",
    "    peaks, info = nk.ecg_peaks(ecg_clean, sampling_rate=fs)\n",
    "    rpeaks = info[\"ECG_R_Peaks\"]\n",
    "    rr     = np.diff(rpeaks) / fs * 1000\n",
    "\n",
    "    code  = ref_df.loc[name, \"label\"]   # 'A' o 'N'\n",
    "    label = \"AFib\" if code==\"A\" else \"Normal\"\n",
    "\n",
    "    features.append({\n",
    "      \"mean_rr\": rr.mean(),\n",
    "      \"std_rr\":  rr.std(),\n",
    "      \"skew_rr\": skew(rr),\n",
    "      \"kurt_rr\": kurtosis(rr),\n",
    "      \"label\":   label\n",
    "    })\n",
    "\n",
    "df = pd.DataFrame(features)\n",
    "df.head()"
   ]
  },
  {
   "cell_type": "code",
   "execution_count": 3,
   "id": "97426eed",
   "metadata": {},
   "outputs": [],
   "source": [
    "# preparar los datos\n",
    "from sklearn.model_selection import train_test_split\n",
    "from sklearn.preprocessing import StandardScaler\n",
    "\n",
    "X = df.drop('label', axis=1)\n",
    "y = df['label']\n",
    "\n",
    "# separar en entrenamiento(80) y prueba(20) \n",
    "X_train, X_test, y_train, y_test = train_test_split(X, y, test_size=0.2, random_state=42, stratify=y)\n",
    "\n",
    "# escalar características\n",
    "scaler = StandardScaler()\n",
    "X_train_scaled = scaler.fit_transform(X_train)\n",
    "X_test_scaled = scaler.transform(X_test)"
   ]
  },
  {
   "cell_type": "markdown",
   "id": "0788d51d",
   "metadata": {},
   "source": [
    "Se eligió SVM porque es un modelo clásico de clasificación que ofrece buen desempeño en problemas con pocas muestras y muchas características, como suele ocurrir en datos biomédicos según el profesor "
   ]
  },
  {
   "cell_type": "code",
   "execution_count": 4,
   "id": "a060d0ff",
   "metadata": {},
   "outputs": [
    {
     "name": "stdout",
     "output_type": "stream",
     "text": [
      "número de muestras de entrenamiento: 43\n"
     ]
    }
   ],
   "source": [
    "# modelo svm\n",
    "from sklearn.svm import SVC\n",
    "\n",
    "# Crear y entrenar el modelo\n",
    "model = SVC(random_state=42)\n",
    "model.fit(X_train_scaled, y_train)\n",
    "print(\"número de muestras de entrenamiento:\", len(X_train_scaled) )"
   ]
  },
  {
   "cell_type": "markdown",
   "id": "16a1fd77",
   "metadata": {},
   "source": [
    "**Evaluar el desempeño del modelo**"
   ]
  },
  {
   "cell_type": "code",
   "execution_count": 7,
   "id": "e9c420a0",
   "metadata": {},
   "outputs": [
    {
     "name": "stdout",
     "output_type": "stream",
     "text": [
      "La precisión es: 0.8182\n",
      "El F1-Score es: 0.8084\n",
      "Precision de predicciones positivas es: 0.8636\n",
      "Recall: 0.8182\n"
     ]
    }
   ],
   "source": [
    "# evaluar el desempeño del modelo\n",
    "from sklearn.metrics import accuracy_score, f1_score, precision_score, recall_score, ConfusionMatrixDisplay\n",
    "\n",
    "# predicciones\n",
    "y_pred = model.predict(X_test_scaled)\n",
    "\n",
    "# métricas\n",
    "accuracy = accuracy_score(y_test, y_pred)\n",
    "f1 = f1_score(y_test, y_pred, average='weighted')\n",
    "precision = precision_score(y_test, y_pred, average='weighted')\n",
    "recall = recall_score(y_test, y_pred, average='weighted')\n",
    "\n",
    "print(f'La precisión es: {accuracy:.4f}')\n",
    "print(f'El F1-Score es: {f1:.4f}')\n",
    "print(f'Precision de predicciones positivas es: {precision:.4f}')\n",
    "print(f'Recall: {recall:.4f}')"
   ]
  },
  {
   "cell_type": "markdown",
   "id": "2ae407ed",
   "metadata": {},
   "source": [
    "*Precisión*: Qué tan bien acierta el modelo en general.\n",
    "\n",
    "\n",
    "*Precision de predicciones positivas*: De los positivos predichos, cuáles realmente lo eran.\n",
    "\n",
    "\n",
    "*Recall*: De los positivos reales, cuántos fueron encontrados.\n",
    "\n",
    "\n",
    "*F1-Score*: Equilibrio entre precisión y recall."
   ]
  },
  {
   "cell_type": "code",
   "execution_count": 8,
   "id": "2edd5ff1",
   "metadata": {},
   "outputs": [
    {
     "data": {
      "image/png": "[encoded data removed]",
      "text/plain": [
       "<Figure size 640x480 with 2 Axes>"
      ]
     },
     "metadata": {},
     "output_type": "display_data"
    }
   ],
   "source": [
    "# visualización de la matriz de confusión\n",
    "import matplotlib.pyplot as plt\n",
    "\n",
    "ConfusionMatrixDisplay.from_estimator(model, X_test_scaled, y_test)\n",
    "plt.title('Matriz de Confusión - SVM')\n",
    "plt.show()"
   ]
  },
  {
   "cell_type": "markdown",
   "id": "9793b9df",
   "metadata": {},
   "source": [
    "# Analizar brevemente los resultados obtenidos\n",
    "\n",
    "\n",
    "- **AFib (verdadero):**\n",
    "  - 6 fueron correctamente clasificados como Afib \n",
    "  - 0 fue incorrectamente clasificado como Normal\n",
    "\n",
    "- **Normal (verdadero):**\n",
    "  - 3 fueron correctamente clasificados como Normal (esquina inferior derecha)\n",
    "  - 2 fueron clasificados erróneamente como AFib (esquina inferior izquierda)\n",
    "\n",
    "### **Resumen:**\n",
    "- El modelo acertó todos los casos Afib 6/6\n",
    "- El modelo acertó 3 de 5 casos Normal y confundió 2 como Afib\n",
    "- No hubo falsos negativos para AFib\n",
    "\n",
    "### **Particularmente:**\n",
    "- La detección de Normal es más débil \n",
    "\n",
    "- El modelo acierta en 82% de los casos aprox\n",
    "\n",
    "- Mantiene un buen equilibrio global (F1-SCORE)\n",
    "\n",
    "- Cuando predice AFib, lo hace bien en 86% aprox de las veces (precision_AFib = 0.8636).  \n",
    "\n",
    "\n",
    "\n"
   ]
  },
  {
   "cell_type": "code",
   "execution_count": 9,
   "id": "c97601b8",
   "metadata": {},
   "outputs": [
    {
     "data": {
      "image/png": "[encoded data removed]",
      "text/plain": [
       "<Figure size 1000x600 with 1 Axes>"
      ]
     },
     "metadata": {},
     "output_type": "display_data"
    }
   ],
   "source": [
    "# Visualización de las métricas del modelo\n",
    "import matplotlib.pyplot as plt\n",
    "import numpy as np\n",
    "\n",
    "# Métricas ya calculadas\n",
    "metrics = {\n",
    "    'Accuracy': accuracy,\n",
    "    'F1-Score': f1,\n",
    "    'Precision': precision,\n",
    "    'Recall': recall\n",
    "}\n",
    "\n",
    "# Crear figura\n",
    "plt.figure(figsize=(10, 6))\n",
    "\n",
    "# Crear gráfico de barras\n",
    "bars = plt.bar(metrics.keys(), metrics.values(), color=['#3498db', '#2ecc71', '#e74c3c', '#f39c12'])\n",
    "\n",
    "# Añadir valores sobre las barras\n",
    "for bar in bars:\n",
    "    height = bar.get_height()\n",
    "    plt.text(bar.get_x() + bar.get_width()/2., height + 0.01,\n",
    "             f'{height:.4f}', ha='center', va='bottom', fontweight='bold')\n",
    "\n",
    "# Personalización\n",
    "plt.ylim(0, 1.1)  # Límite del eje y\n",
    "plt.title('Métricas de Rendimiento del Modelo SVM', fontsize=15)\n",
    "plt.ylabel('Valor', fontsize=12)\n",
    "plt.grid(axis='y', linestyle='--', alpha=0.7)\n",
    "\n",
    "# Añadir una línea horizontal para referencia\n",
    "plt.axhline(y=0.8, color='red', linestyle='--', alpha=0.3)\n",
    "plt.text(0, 0.81, '0.8 (80%)', color='red', alpha=0.5)\n",
    "\n",
    "plt.tight_layout()\n",
    "plt.savefig('../metrics_visualization.png', dpi=300, bbox_inches='tight')  # Guardar la imagen\n",
    "plt.show()"
   ]
  }
 ],
 "metadata": {
  "kernelspec": {
   "display_name": "Python 3",
   "language": "python",
   "name": "python3"
  },
  "language_info": {
   "codemirror_mode": {
    "name": "ipython",
    "version": 3
   },
   "file_extension": ".py",
   "mimetype": "text/x-python",
   "name": "python",
   "nbconvert_exporter": "python",
   "pygments_lexer": "ipython3",
   "version": "3.13.1"
  }
 },
 "nbformat": 4,
 "nbformat_minor": 5
}
