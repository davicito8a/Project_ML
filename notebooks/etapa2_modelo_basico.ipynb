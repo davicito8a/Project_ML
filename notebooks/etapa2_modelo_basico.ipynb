{
 "cells": [
  {
   "cell_type": "markdown",
   "id": "514c3b87",
   "metadata": {},
   "source": [
    "contexto: el dataset utilizado contiene 30 muestras y 5 columnas: cuatro variables numéricas extraídas de señales ECG (`mean_rr`, `std_rr`, `skew_rr`, `kurt_rr`) y una columna de etiqueta (`label`) con dos clases: \"Normal\" y \"AFib\". El conjunto está ligeramente desbalanceado (18 Normal, 12 AFib). Según el análisis exploratorio, `std_rr` y `kurt_rr` parecen ser las variables más discriminantes entre clases"
   ]
  },
  {
   "cell_type": "markdown",
   "id": "e847fae0",
   "metadata": {},
   "source": [
    "**Entrenar un modelo base**"
   ]
  },
  {
   "cell_type": "code",
   "execution_count": null,
   "id": "d13bf99a",
   "metadata": {},
   "outputs": [
    {
     "data": {
      "text/html": [
       "<div>\n",
       "<style scoped>\n",
       "    .dataframe tbody tr th:only-of-type {\n",
       "        vertical-align: middle;\n",
       "    }\n",
       "\n",
       "    .dataframe tbody tr th {\n",
       "        vertical-align: top;\n",
       "    }\n",
       "\n",
       "    .dataframe thead th {\n",
       "        text-align: right;\n",
       "    }\n",
       "</style>\n",
       "<table border=\"1\" class=\"dataframe\">\n",
       "  <thead>\n",
       "    <tr style=\"text-align: right;\">\n",
       "      <th></th>\n",
       "      <th>mean_rr</th>\n",
       "      <th>std_rr</th>\n",
       "      <th>skew_rr</th>\n",
       "      <th>kurt_rr</th>\n",
       "      <th>label</th>\n",
       "    </tr>\n",
       "  </thead>\n",
       "  <tbody>\n",
       "    <tr>\n",
       "      <th>0</th>\n",
       "      <td>849.671415</td>\n",
       "      <td>37.965868</td>\n",
       "      <td>0.404165</td>\n",
       "      <td>3.097078</td>\n",
       "      <td>Normal</td>\n",
       "    </tr>\n",
       "    <tr>\n",
       "      <th>1</th>\n",
       "      <td>786.173570</td>\n",
       "      <td>87.045564</td>\n",
       "      <td>0.462868</td>\n",
       "      <td>3.968645</td>\n",
       "      <td>AFib</td>\n",
       "    </tr>\n",
       "    <tr>\n",
       "      <th>2</th>\n",
       "      <td>864.768854</td>\n",
       "      <td>49.730056</td>\n",
       "      <td>0.278733</td>\n",
       "      <td>2.297947</td>\n",
       "      <td>Normal</td>\n",
       "    </tr>\n",
       "    <tr>\n",
       "      <th>3</th>\n",
       "      <td>952.302986</td>\n",
       "      <td>28.845781</td>\n",
       "      <td>0.260759</td>\n",
       "      <td>2.672338</td>\n",
       "      <td>AFib</td>\n",
       "    </tr>\n",
       "    <tr>\n",
       "      <th>4</th>\n",
       "      <td>776.584663</td>\n",
       "      <td>66.450898</td>\n",
       "      <td>0.662505</td>\n",
       "      <td>2.607892</td>\n",
       "      <td>AFib</td>\n",
       "    </tr>\n",
       "  </tbody>\n",
       "</table>\n",
       "</div>"
      ],
      "text/plain": [
       "      mean_rr     std_rr   skew_rr   kurt_rr   label\n",
       "0  849.671415  37.965868  0.404165  3.097078  Normal\n",
       "1  786.173570  87.045564  0.462868  3.968645    AFib\n",
       "2  864.768854  49.730056  0.278733  2.297947  Normal\n",
       "3  952.302986  28.845781  0.260759  2.672338    AFib\n",
       "4  776.584663  66.450898  0.662505  2.607892    AFib"
      ]
     },
     "execution_count": 7,
     "metadata": {},
     "output_type": "execute_result"
    }
   ],
   "source": [
    "# cargar datos\n",
    "import pandas as pd\n",
    "\n",
    "from sklearn.model_selection import train_test_split\n",
    "from sklearn.preprocessing import StandardScaler\n",
    "\n",
    "# cargar el dataset\n",
    "df = pd.read_csv('../data/ecg_rr_features_curado.csv')\n",
    "df.head()"
   ]
  },
  {
   "cell_type": "code",
   "execution_count": null,
   "id": "97426eed",
   "metadata": {},
   "outputs": [],
   "source": [
    "# preparar los datos\n",
    "X = df.drop('label', axis=1)\n",
    "y = df['label']\n",
    "\n",
    "# separar en entrenamiento(80) y prueba(20) \n",
    "X_train, X_test, y_train, y_test = train_test_split(X, y, test_size=0.2, random_state=42, stratify=y)\n",
    "\n",
    "# escalar características\n",
    "scaler = StandardScaler()\n",
    "X_train_scaled = scaler.fit_transform(X_train)\n",
    "X_test_scaled = scaler.transform(X_test)"
   ]
  },
  {
   "cell_type": "markdown",
   "id": "0788d51d",
   "metadata": {},
   "source": [
    "Se eligió SVM porque es un modelo clásico de clasificación que ofrece buen desempeño en problemas con pocas muestras y muchas características, como suele ocurrir en datos biomédicos según el profesor "
   ]
  },
  {
   "cell_type": "code",
   "execution_count": null,
   "id": "a060d0ff",
   "metadata": {},
   "outputs": [
    {
     "name": "stdout",
     "output_type": "stream",
     "text": [
      "numero de muestras de entrenamiento: 24\n"
     ]
    }
   ],
   "source": [
    "# modelo svm\n",
    "from sklearn.svm import SVC\n",
    "\n",
    "# Crear y entrenar el modelo\n",
    "model = SVC(random_state=42)\n",
    "model.fit(X_train_scaled, y_train)\n",
    "print(\"número de muestras de entrenamiento:\", len(X_train_scaled) )"
   ]
  },
  {
   "cell_type": "markdown",
   "id": "16a1fd77",
   "metadata": {},
   "source": [
    "**Evaluar el desempeño del modelo**"
   ]
  },
  {
   "cell_type": "code",
   "execution_count": null,
   "id": "e9c420a0",
   "metadata": {},
   "outputs": [
    {
     "name": "stdout",
     "output_type": "stream",
     "text": [
      "La precisión es: 0.8333\n",
      "El F1-Score es: 0.8148\n",
      "Precision de predicciones positivas es: 0.8667\n",
      "Recall: 0.8333\n"
     ]
    }
   ],
   "source": [
    "# evaluar el desempeño del modelo\n",
    "from sklearn.metrics import accuracy_score, f1_score, precision_score, recall_score, ConfusionMatrixDisplay\n",
    "\n",
    "# predicciones\n",
    "y_pred = model.predict(X_test_scaled)\n",
    "\n",
    "# métricas\n",
    "accuracy = accuracy_score(y_test, y_pred)\n",
    "f1 = f1_score(y_test, y_pred, average='weighted')\n",
    "precision = precision_score(y_test, y_pred, average='weighted')\n",
    "recall = recall_score(y_test, y_pred, average='weighted')\n",
    "\n",
    "print(f'La precisión es: {accuracy:.4f}')\n",
    "print(f'El F1-Score es: {f1:.4f}')\n",
    "print(f'Precision de predicciones positivas es: {precision:.4f}')\n",
    "print(f'Recall: {recall:.4f}')"
   ]
  },
  {
   "cell_type": "markdown",
   "id": "2ae407ed",
   "metadata": {},
   "source": [
    "*Precisión*: Qué tan bien acierta el modelo en general.\n",
    "\n",
    "\n",
    "*Precision de predicciones positivas*: De los positivos predichos, cuáles realmente lo eran.\n",
    "\n",
    "\n",
    "*Recall*: De los positivos reales, cuántos fueron encontrados.\n",
    "\n",
    "\n",
    "*F1-Score*: Equilibrio entre precisión y recall."
   ]
  },
  {
   "cell_type": "code",
   "execution_count": null,
   "id": "2edd5ff1",
   "metadata": {},
   "outputs": [
    {
     "data": {
      "image/png": "[encoded data removed]",
      "text/plain": [
       "<Figure size 640x480 with 2 Axes>"
      ]
     },
     "metadata": {},
     "output_type": "display_data"
    }
   ],
   "source": [
    "# visualización de la matriz de confusión\n",
    "import matplotlib.pyplot as plt\n",
    "\n",
    "ConfusionMatrixDisplay.from_estimator(model, X_test_scaled, y_test)\n",
    "plt.title('Matriz de Confusión - SVM')\n",
    "plt.show()"
   ]
  },
  {
   "cell_type": "markdown",
   "id": "9793b9df",
   "metadata": {},
   "source": [
    "# Analizar brevemente los resultados obtenidos\n",
    "\n",
    "\n",
    "- **AFib (verdadero):**\n",
    "  - 1 fue correctamente clasificado como AFib (esquina superior izquierda)\n",
    "  - 1 fue incorrectamente clasificado como Normal (esquina superior derecha)\n",
    "\n",
    "- **Normal (verdadero):**\n",
    "  - 4 fueron correctamente clasificados como Normal (esquina inferior derecha)\n",
    "  - 0 fueron clasificados erróneamente como AFib (esquina inferior izquierda)\n",
    "\n",
    "### **Resumen:**\n",
    "- El modelo acertó todos los casos \"Normal\" (4/4)\n",
    "- El modelo acertó 1 de 2 casos \"AFib\" y confundió 1 como \"Normal\"\n",
    "- No hubo falsos positivos para \"AFib\"\n",
    "\n",
    "### **Particularmente:**\n",
    "- El modelo es muy bueno detectando \"Normal\"\n",
    "\n",
    "- El modelo acierta en más de 8 de cada 10 casos (Precisión aprox 0.83), mostrando un buen desempeño general\n",
    "\n",
    "- De todas las veces que realmente hay AFib, detecta más de 8 de cada 10 (Recall aprox 0.83), lo que indica buena sensibilidad a detectar los casos de AFib correctamente\n",
    "\n",
    "- Cuando predice “AFib”, acierta también en casi 9 de cada 10 casos (Precision aprox 0.87), por lo que hay pocos falsos positivos\n",
    "\n",
    "\n"
   ]
  }
 ],
 "metadata": {
  "kernelspec": {
   "display_name": "Python 3",
   "language": "python",
   "name": "python3"
  },
  "language_info": {
   "codemirror_mode": {
    "name": "ipython",
    "version": 3
   },
   "file_extension": ".py",
   "mimetype": "text/x-python",
   "name": "python",
   "nbconvert_exporter": "python",
   "pygments_lexer": "ipython3",
   "version": "3.13.1"
  }
 },
 "nbformat": 4,
 "nbformat_minor": 5
}
